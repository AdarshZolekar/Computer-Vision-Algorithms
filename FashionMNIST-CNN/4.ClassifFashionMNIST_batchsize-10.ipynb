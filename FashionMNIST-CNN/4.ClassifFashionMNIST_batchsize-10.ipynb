{
 "cells": [
  {
   "cell_type": "markdown",
   "metadata": {},
   "source": [
    "# CNN for Classification\n",
    "---\n",
    "In this notebook, we define **and train** an CNN to classify images from the [Fashion-MNIST database](https://github.com/zalandoresearch/fashion-mnist). \n",
    "\n",
    "We are providing two solutions to show you how different network structures and training strategies can affect the performance and accuracy of a CNN. This second solution will be a CNN with two convolutional layers **and** additional fully-connected and dropout layers to avoid overfitting the data and gradient descent with momentum to avoid reaching a local minimum. The batch size and number of epochs to train are the same as in the first example solution so that you can see how the structure of the network and loss hyperparameters have affected the accuracy of the model!\n",
    "\n",
    "Again, this is just one possible solution out of many."
   ]
  },
  {
   "cell_type": "markdown",
   "metadata": {},
   "source": [
    "### Load the [data](http://pytorch.org/docs/master/torchvision/datasets.html)\n",
    "\n",
    "In this cell, we load in both **training and test** datasets from the FashionMNIST class."
   ]
  },
  {
   "cell_type": "code",
   "execution_count": 4,
   "metadata": {},
   "outputs": [
    {
     "name": "stdout",
     "output_type": "stream",
     "text": [
      "Train data, number of images:  60000\n",
      "Test data, number of images:  10000\n"
     ]
    }
   ],
   "source": [
    "# our basic libraries\n",
    "import torch\n",
    "import torchvision\n",
    "\n",
    "# data loading and transforming\n",
    "from torchvision.datasets import FashionMNIST\n",
    "from torch.utils.data import DataLoader\n",
    "from torchvision import transforms\n",
    "\n",
    "# The output of torchvision datasets are PILImage images of range [0, 1]. \n",
    "# We transform them to Tensors for input into a CNN\n",
    "\n",
    "## Define a transform to read the data in as a tensor\n",
    "data_transform = transforms.ToTensor()\n",
    "\n",
    "# choose the training and test datasets\n",
    "train_data = FashionMNIST(root='./data', train=True,\n",
    "                                   download=True, transform=data_transform)\n",
    "\n",
    "test_data = FashionMNIST(root='./data', train=False,\n",
    "                                  download=True, transform=data_transform)\n",
    "\n",
    "\n",
    "# Print out some stats about the training and test data\n",
    "print('Train data, number of images: ', len(train_data))\n",
    "print('Test data, number of images: ', len(test_data))"
   ]
  },
  {
   "cell_type": "code",
   "execution_count": 5,
   "metadata": {},
   "outputs": [],
   "source": [
    "# prepare data loaders, set the batch_size\n",
    "## TODO: you can try changing the batch_size to be larger or smaller\n",
    "## when you get to training your network, see how batch_size affects the loss\n",
    "#batch_size = 20\n",
    "batch_size = 10\n",
    "\n",
    "train_loader = DataLoader(train_data, batch_size=batch_size, shuffle=True)\n",
    "test_loader = DataLoader(test_data, batch_size=batch_size, shuffle=True)\n",
    "\n",
    "# specify the image classes\n",
    "classes = ['T-shirt/top', 'Trouser', 'Pullover', 'Dress', 'Coat', \n",
    "           'Sandal', 'Shirt', 'Sneaker', 'Bag', 'Ankle boot']"
   ]
  },
  {
   "cell_type": "markdown",
   "metadata": {},
   "source": [
    "### Visualize some training data\n",
    "\n",
    "This cell iterates over the training dataset, loading a random batch of image/label data, using `dataiter.next()`. It then plots the batch of images and labels in a `2 x batch_size/2` grid."
   ]
  },
  {
   "cell_type": "code",
   "execution_count": 6,
   "metadata": {},
   "outputs": [
    {
     "data": {
      "image/png": "[encoded data removed]",
      "text/plain": [
       "<Figure size 1800x288 with 10 Axes>"
      ]
     },
     "metadata": {},
     "output_type": "display_data"
    }
   ],
   "source": [
    "import numpy as np\n",
    "import matplotlib.pyplot as plt\n",
    "\n",
    "%matplotlib inline\n",
    "    \n",
    "# obtain one batch of training images\n",
    "dataiter = iter(train_loader)\n",
    "images, labels = dataiter.next()\n",
    "images = images.numpy()\n",
    "\n",
    "# plot the images in the batch, along with the corresponding labels\n",
    "fig = plt.figure(figsize=(25, 4))\n",
    "for idx in np.arange(batch_size):\n",
    "    ax = fig.add_subplot(2, batch_size/2, idx+1, xticks=[], yticks=[])\n",
    "    ax.imshow(np.squeeze(images[idx]), cmap='gray')\n",
    "    ax.set_title(classes[labels[idx]])"
   ]
  },
  {
   "cell_type": "markdown",
   "metadata": {},
   "source": [
    "### Define the network architecture\n",
    "\n",
    "The various layers that make up any neural network are documented, [here](http://pytorch.org/docs/master/nn.html). For a convolutional neural network, we'll use a simple series of layers:\n",
    "* Convolutional layers\n",
    "* Maxpooling layers\n",
    "* Fully-connected (linear) layers\n",
    "\n",
    "You are also encouraged to look at adding [dropout layers](http://pytorch.org/docs/stable/nn.html#dropout) to avoid overfitting this data.\n",
    "\n",
    "---\n",
    "\n",
    "To define a neural network in PyTorch, you define the layers of a model in the function `__init__` and define the feedforward behavior of a network that employs those initialized layers in the function `forward`, which takes in an input image tensor, `x`. The structure of this Net class is shown below and left for you to fill in.\n",
    "\n",
    "Note: During training, PyTorch will be able to perform backpropagation by keeping track of the network's feedforward behavior and using autograd to calculate the update to the weights in the network.\n",
    "\n",
    "#### Define the Layers in ` __init__`\n",
    "As a reminder, a conv/pool layer may be defined like this (in `__init__`):\n",
    "```\n",
    "# 1 input image channel (for grayscale images), 32 output channels/feature maps, 3x3 square convolution kernel\n",
    "self.conv1 = nn.Conv2d(1, 32, 3)\n",
    "\n",
    "# maxpool that uses a square window of kernel_size=2, stride=2\n",
    "self.pool = nn.MaxPool2d(2, 2)      \n",
    "```\n",
    "\n",
    "#### Refer to Layers in `forward`\n",
    "Then referred to in the `forward` function like this, in which the conv1 layer has a ReLu activation applied to it before maxpooling is applied:\n",
    "```\n",
    "x = self.pool(F.relu(self.conv1(x)))\n",
    "```\n",
    "\n",
    "You must place any layers with trainable weights, such as convolutional layers, in the `__init__` function and refer to them in the `forward` function; any layers or functions that always behave in the same way, such as a pre-defined activation function, may appear *only* in the `forward` function. In practice, you'll often see conv/pool layers defined in `__init__` and activations defined in `forward`.\n",
    "\n",
    "#### Convolutional layer\n",
    "The first convolution layer has been defined for you, it takes in a 1 channel (grayscale) image and outputs 10 feature maps as output, after convolving the image with 3x3 filters.\n",
    "\n",
    "#### Flattening\n",
    "\n",
    "Recall that to move from the output of a convolutional/pooling layer to a linear layer, you must first flatten your extracted features into a vector. If you've used the deep learning library, Keras, you may have seen this done by `Flatten()`, and in PyTorch you can flatten an input `x` with `x = x.view(x.size(0), -1)`.\n",
    "\n",
    "### TODO: Define the rest of the layers\n",
    "\n",
    "It will be up to you to define the other layers in this network; we have some recommendations, but you may change the architecture and parameters as you see fit.\n",
    "\n",
    "Recommendations/tips:\n",
    "* Use at least two convolutional layers\n",
    "* Your output must be a linear layer with 10 outputs (for the 10 classes of clothing)\n",
    "* Use a dropout layer to avoid overfitting\n",
    "\n",
    "### A note on output size\n",
    "\n",
    "For any convolutional layer, the output feature maps will have the specified depth (a depth of 10 for 10 filters in a convolutional layer) and the dimensions of the produced feature maps (width/height) can be computed as the _input image_ width/height, W, minus the filter size, F, divided by the stride, S, all + 1. The equation looks like: `output_dim = (W-F)/S + 1`, for an assumed padding size of 0. You can find a derivation of this formula, [here](http://cs231n.github.io/convolutional-networks/#conv).\n",
    "\n",
    "For a pool layer with a size 2 and stride 2, the output dimension will be reduced by a factor of 2. Read the comments in the code below to see the output size for each layer."
   ]
  },
  {
   "cell_type": "code",
   "execution_count": 7,
   "metadata": {},
   "outputs": [
    {
     "name": "stdout",
     "output_type": "stream",
     "text": [
      "Net(\n",
      "  (conv1): Conv2d(1, 10, kernel_size=(3, 3), stride=(1, 1))\n",
      "  (pool): MaxPool2d(kernel_size=2, stride=2, padding=0, dilation=1, ceil_mode=False)\n",
      "  (conv2): Conv2d(10, 20, kernel_size=(3, 3), stride=(1, 1))\n",
      "  (fc1): Linear(in_features=500, out_features=50, bias=True)\n",
      "  (fc1_drop): Dropout(p=0.4)\n",
      "  (fc2): Linear(in_features=50, out_features=10, bias=True)\n",
      ")\n"
     ]
    }
   ],
   "source": [
    "import torch.nn as nn\n",
    "import torch.nn.functional as F\n",
    "\n",
    "class Net(nn.Module):\n",
    "\n",
    "    def __init__(self):\n",
    "        super(Net, self).__init__()\n",
    "        \n",
    "        # 1 input image channel (grayscale), 10 output channels/feature maps\n",
    "        # 3x3 square convolution kernel\n",
    "        ## output size = (W-F)/S +1 = (28-3)/1 +1 = 26\n",
    "        # the output Tensor for one image, will have the dimensions: (10, 26, 26)\n",
    "        # after one pool layer, this becomes (10, 13, 13)\n",
    "        self.conv1 = nn.Conv2d(1, 10, 3)\n",
    "        \n",
    "        # maxpool layer\n",
    "        # pool with kernel_size=2, stride=2\n",
    "        self.pool = nn.MaxPool2d(2, 2)\n",
    "        \n",
    "        # second conv layer: 10 inputs, 20 outputs, 3x3 conv\n",
    "        ## output size = (W-F)/S +1 = (13-3)/1 +1 = 11\n",
    "        # the output tensor will have dimensions: (20, 11, 11)\n",
    "        # after another pool layer this becomes (20, 5, 5); 5.5 is rounded down\n",
    "        self.conv2 = nn.Conv2d(10, 20, 3)\n",
    "        \n",
    "        # 20 outputs * the 5*5 filtered/pooled map size\n",
    "        self.fc1 = nn.Linear(20*5*5, 50)\n",
    "        \n",
    "        # dropout with p=0.4\n",
    "        self.fc1_drop = nn.Dropout(p=0.4)\n",
    "        \n",
    "        # finally, create 10 output channels (for the 10 classes)\n",
    "        self.fc2 = nn.Linear(50, 10)\n",
    "\n",
    "    # define the feedforward behavior\n",
    "    def forward(self, x):\n",
    "        # two conv/relu + pool layers\n",
    "        x = self.pool(F.relu(self.conv1(x)))\n",
    "        x = self.pool(F.relu(self.conv2(x)))\n",
    "\n",
    "        # prep for linear layer\n",
    "        # this line of code is the equivalent of Flatten in Keras\n",
    "        x = x.view(x.size(0), -1)\n",
    "        \n",
    "        # two linear layers with dropout in between\n",
    "        x = F.relu(self.fc1(x))\n",
    "        x = self.fc1_drop(x)\n",
    "        x = self.fc2(x)\n",
    "        \n",
    "        # final output\n",
    "        return x\n",
    "\n",
    "# instantiate and print your Net\n",
    "net = Net()\n",
    "print(net)"
   ]
  },
  {
   "cell_type": "markdown",
   "metadata": {},
   "source": [
    "### TODO: Specify the loss function and optimizer\n",
    "\n",
    "Learn more about [loss functions](http://pytorch.org/docs/master/nn.html#loss-functions) and [optimizers](http://pytorch.org/docs/master/optim.html) in the online documentation.\n",
    "\n",
    "Note that for a classification problem like this, one typically uses cross entropy loss, which can be defined in code like: `criterion = nn.CrossEntropyLoss()`. PyTorch also includes some standard stochastic optimizers like stochastic gradient descent and Adam. You're encouraged to try different optimizers and see how your model responds to these choices as it trains.\n"
   ]
  },
  {
   "cell_type": "code",
   "execution_count": 8,
   "metadata": {},
   "outputs": [],
   "source": [
    "import torch.optim as optim\n",
    "\n",
    "## TODO: specify loss function\n",
    "# using cross entropy whcih combines softmax and NLL loss\n",
    "criterion = nn.CrossEntropyLoss()\n",
    "\n",
    "## TODO: specify optimizer \n",
    "# stochastic gradient descent with a small learning rate AND some momentum\n",
    "optimizer = optim.SGD(net.parameters(), lr=0.001, momentum=0.9)"
   ]
  },
  {
   "cell_type": "markdown",
   "metadata": {},
   "source": [
    "### A note on accuracy\n",
    "\n",
    "It's interesting to look at the accuracy of your network **before and after** training. This way you can really see that your network has learned something. In the next cell, let's see what the accuracy of an untrained network is (we expect it to be around 10% which is the same accuracy as just guessing for all 10 classes)."
   ]
  },
  {
   "cell_type": "code",
   "execution_count": 9,
   "metadata": {},
   "outputs": [
    {
     "name": "stdout",
     "output_type": "stream",
     "text": [
      "Accuracy before training:  10.33\n"
     ]
    }
   ],
   "source": [
    "# Calculate accuracy before training\n",
    "correct = 0\n",
    "total = 0\n",
    "\n",
    "# Iterate through test dataset\n",
    "for images, labels in test_loader:\n",
    "\n",
    "    # forward pass to get outputs\n",
    "    # the outputs are a series of class scores\n",
    "    outputs = net(images)\n",
    "\n",
    "    # get the predicted class from the maximum value in the output-list of class scores\n",
    "    _, predicted = torch.max(outputs.data, 1)\n",
    "\n",
    "    # count up total number of correct labels\n",
    "    # for which the predicted and true labels are equal\n",
    "    total += labels.size(0)\n",
    "    correct += (predicted == labels).sum()\n",
    "\n",
    "# calculate the accuracy\n",
    "# to convert `correct` from a Tensor into a scalar, use .item()\n",
    "accuracy = 100.0 * correct.item() / total\n",
    "\n",
    "# print it out!\n",
    "print('Accuracy before training: ', accuracy)"
   ]
  },
  {
   "cell_type": "markdown",
   "metadata": {},
   "source": [
    "### Train the Network\n",
    "\n",
    "Below, we've defined a `train` function that takes in a number of epochs to train for. \n",
    "* The number of epochs is how many times a network will cycle through the entire training dataset. \n",
    "* Inside the epoch loop, we loop over the training dataset in batches; recording the loss every 1000 batches.\n",
    "\n",
    "Here are the steps that this training function performs as it iterates over the training dataset:\n",
    "\n",
    "1. Zero's the gradients to prepare for a forward pass\n",
    "2. Passes the input through the network (forward pass)\n",
    "3. Computes the loss (how far is the predicted classes are from the correct labels)\n",
    "4. Propagates gradients back into the network’s parameters (backward pass)\n",
    "5. Updates the weights (parameter update)\n",
    "6. Prints out the calculated loss\n"
   ]
  },
  {
   "cell_type": "code",
   "execution_count": 10,
   "metadata": {},
   "outputs": [],
   "source": [
    "def train(n_epochs):\n",
    "    \n",
    "    loss_over_time = [] # to track the loss as the network trains\n",
    "    \n",
    "    for epoch in range(n_epochs):  # loop over the dataset multiple times\n",
    "        \n",
    "        running_loss = 0.0\n",
    "        \n",
    "        for batch_i, data in enumerate(train_loader):\n",
    "            # get the input images and their corresponding labels\n",
    "            inputs, labels = data\n",
    "\n",
    "            # zero the parameter (weight) gradients\n",
    "            optimizer.zero_grad()\n",
    "\n",
    "            # forward pass to get outputs\n",
    "            outputs = net(inputs)\n",
    "\n",
    "            # calculate the loss\n",
    "            loss = criterion(outputs, labels)\n",
    "\n",
    "            # backward pass to calculate the parameter gradients\n",
    "            loss.backward()\n",
    "\n",
    "            # update the parameters\n",
    "            optimizer.step()\n",
    "\n",
    "            # print loss statistics\n",
    "            # to convert loss into a scalar and add it to running_loss, we use .item()\n",
    "            running_loss += loss.item()\n",
    "            \n",
    "            if batch_i % 1000 == 999:    # print every 1000 batches\n",
    "                avg_loss = running_loss/1000\n",
    "                # record and print the avg loss over the 1000 batches\n",
    "                loss_over_time.append(avg_loss)\n",
    "                print('Epoch: {}, Batch: {}, Avg. Loss: {}'.format(epoch + 1, batch_i+1, avg_loss))\n",
    "                running_loss = 0.0\n",
    "\n",
    "    print('Finished Training')\n",
    "    return loss_over_time\n"
   ]
  },
  {
   "cell_type": "code",
   "execution_count": 11,
   "metadata": {},
   "outputs": [
    {
     "name": "stdout",
     "output_type": "stream",
     "text": [
      "Epoch: 1, Batch: 1000, Avg. Loss: 1.6538200945258141\n",
      "Epoch: 1, Batch: 2000, Avg. Loss: 1.0189904262423515\n",
      "Epoch: 1, Batch: 3000, Avg. Loss: 0.8481027180850506\n",
      "Epoch: 1, Batch: 4000, Avg. Loss: 0.7752585110515356\n",
      "Epoch: 1, Batch: 5000, Avg. Loss: 0.7127937290146947\n",
      "Epoch: 1, Batch: 6000, Avg. Loss: 0.6688615306504071\n",
      "Epoch: 2, Batch: 1000, Avg. Loss: 0.6646256586872041\n",
      "Epoch: 2, Batch: 2000, Avg. Loss: 0.6469079566337168\n",
      "Epoch: 2, Batch: 3000, Avg. Loss: 0.6125040575489402\n",
      "Epoch: 2, Batch: 4000, Avg. Loss: 0.5954712622612715\n",
      "Epoch: 2, Batch: 5000, Avg. Loss: 0.5967824748791755\n",
      "Epoch: 2, Batch: 6000, Avg. Loss: 0.5765856427568943\n",
      "Epoch: 3, Batch: 1000, Avg. Loss: 0.5590873555466532\n",
      "Epoch: 3, Batch: 2000, Avg. Loss: 0.5596509499922395\n",
      "Epoch: 3, Batch: 3000, Avg. Loss: 0.5589409511163831\n",
      "Epoch: 3, Batch: 4000, Avg. Loss: 0.5211264722533524\n",
      "Epoch: 3, Batch: 5000, Avg. Loss: 0.540635027818149\n",
      "Epoch: 3, Batch: 6000, Avg. Loss: 0.5283121137749404\n",
      "Epoch: 4, Batch: 1000, Avg. Loss: 0.5171946528684348\n",
      "Epoch: 4, Batch: 2000, Avg. Loss: 0.5047282043527812\n",
      "Epoch: 4, Batch: 3000, Avg. Loss: 0.4970762419700623\n",
      "Epoch: 4, Batch: 4000, Avg. Loss: 0.5068438604325056\n",
      "Epoch: 4, Batch: 5000, Avg. Loss: 0.49266931539960207\n",
      "Epoch: 4, Batch: 6000, Avg. Loss: 0.48925754996202886\n",
      "Epoch: 5, Batch: 1000, Avg. Loss: 0.48827024036087097\n",
      "Epoch: 5, Batch: 2000, Avg. Loss: 0.4842944419849664\n",
      "Epoch: 5, Batch: 3000, Avg. Loss: 0.479239214386791\n",
      "Epoch: 5, Batch: 4000, Avg. Loss: 0.46725815215706823\n",
      "Epoch: 5, Batch: 5000, Avg. Loss: 0.44383869764208794\n",
      "Epoch: 5, Batch: 6000, Avg. Loss: 0.4566774432323873\n",
      "Epoch: 6, Batch: 1000, Avg. Loss: 0.4551982365585864\n",
      "Epoch: 6, Batch: 2000, Avg. Loss: 0.46023537396267056\n",
      "Epoch: 6, Batch: 3000, Avg. Loss: 0.44285683350730687\n",
      "Epoch: 6, Batch: 4000, Avg. Loss: 0.46202439622208474\n",
      "Epoch: 6, Batch: 5000, Avg. Loss: 0.4411321169566363\n",
      "Epoch: 6, Batch: 6000, Avg. Loss: 0.436329104914912\n",
      "Epoch: 7, Batch: 1000, Avg. Loss: 0.43587281784880905\n",
      "Epoch: 7, Batch: 2000, Avg. Loss: 0.4316436685118824\n",
      "Epoch: 7, Batch: 3000, Avg. Loss: 0.4452639528419822\n",
      "Epoch: 7, Batch: 4000, Avg. Loss: 0.4258681628222112\n",
      "Epoch: 7, Batch: 5000, Avg. Loss: 0.42307511902134864\n",
      "Epoch: 7, Batch: 6000, Avg. Loss: 0.4188454225249588\n",
      "Epoch: 8, Batch: 1000, Avg. Loss: 0.4177098619253375\n",
      "Epoch: 8, Batch: 2000, Avg. Loss: 0.414374133892823\n",
      "Epoch: 8, Batch: 3000, Avg. Loss: 0.41023052170011215\n",
      "Epoch: 8, Batch: 4000, Avg. Loss: 0.41879563143383713\n",
      "Epoch: 8, Batch: 5000, Avg. Loss: 0.4096752713099122\n",
      "Epoch: 8, Batch: 6000, Avg. Loss: 0.40457650309987364\n",
      "Epoch: 9, Batch: 1000, Avg. Loss: 0.4080474285148084\n",
      "Epoch: 9, Batch: 2000, Avg. Loss: 0.41195738002471627\n",
      "Epoch: 9, Batch: 3000, Avg. Loss: 0.3938168460680172\n",
      "Epoch: 9, Batch: 4000, Avg. Loss: 0.393002248262288\n",
      "Epoch: 9, Batch: 5000, Avg. Loss: 0.40344213986117394\n",
      "Epoch: 9, Batch: 6000, Avg. Loss: 0.39464350742101667\n",
      "Epoch: 10, Batch: 1000, Avg. Loss: 0.4007940159151331\n",
      "Epoch: 10, Batch: 2000, Avg. Loss: 0.3907950734985061\n",
      "Epoch: 10, Batch: 3000, Avg. Loss: 0.38635985655803234\n",
      "Epoch: 10, Batch: 4000, Avg. Loss: 0.3811208893787116\n",
      "Epoch: 10, Batch: 5000, Avg. Loss: 0.39172254876233636\n",
      "Epoch: 10, Batch: 6000, Avg. Loss: 0.366620947338175\n",
      "Epoch: 11, Batch: 1000, Avg. Loss: 0.3813304567481391\n",
      "Epoch: 11, Batch: 2000, Avg. Loss: 0.3792055943622254\n",
      "Epoch: 11, Batch: 3000, Avg. Loss: 0.38387622404657307\n",
      "Epoch: 11, Batch: 4000, Avg. Loss: 0.371632890463341\n",
      "Epoch: 11, Batch: 5000, Avg. Loss: 0.3922166957501322\n",
      "Epoch: 11, Batch: 6000, Avg. Loss: 0.3708803249450866\n",
      "Epoch: 12, Batch: 1000, Avg. Loss: 0.35401592850871383\n",
      "Epoch: 12, Batch: 2000, Avg. Loss: 0.36359468202712014\n",
      "Epoch: 12, Batch: 3000, Avg. Loss: 0.38099752194597386\n",
      "Epoch: 12, Batch: 4000, Avg. Loss: 0.37602323773410173\n",
      "Epoch: 12, Batch: 5000, Avg. Loss: 0.3594794563180767\n",
      "Epoch: 12, Batch: 6000, Avg. Loss: 0.3544138001772808\n",
      "Epoch: 13, Batch: 1000, Avg. Loss: 0.35984652463672684\n",
      "Epoch: 13, Batch: 2000, Avg. Loss: 0.350631573184859\n",
      "Epoch: 13, Batch: 3000, Avg. Loss: 0.3639636336620897\n",
      "Epoch: 13, Batch: 4000, Avg. Loss: 0.36776512026018465\n",
      "Epoch: 13, Batch: 5000, Avg. Loss: 0.356292013942264\n",
      "Epoch: 13, Batch: 6000, Avg. Loss: 0.35959360473882407\n",
      "Epoch: 14, Batch: 1000, Avg. Loss: 0.3523364712381735\n",
      "Epoch: 14, Batch: 2000, Avg. Loss: 0.3648574208598584\n",
      "Epoch: 14, Batch: 3000, Avg. Loss: 0.3403786133835092\n",
      "Epoch: 14, Batch: 4000, Avg. Loss: 0.34528800198156384\n",
      "Epoch: 14, Batch: 5000, Avg. Loss: 0.3574350263522938\n",
      "Epoch: 14, Batch: 6000, Avg. Loss: 0.35204855057946405\n",
      "Epoch: 15, Batch: 1000, Avg. Loss: 0.3474785485148896\n",
      "Epoch: 15, Batch: 2000, Avg. Loss: 0.35726129373442383\n",
      "Epoch: 15, Batch: 3000, Avg. Loss: 0.32832403610646727\n",
      "Epoch: 15, Batch: 4000, Avg. Loss: 0.338170862825471\n",
      "Epoch: 15, Batch: 5000, Avg. Loss: 0.3386287620150251\n",
      "Epoch: 15, Batch: 6000, Avg. Loss: 0.35260692321602255\n",
      "Epoch: 16, Batch: 1000, Avg. Loss: 0.3383297908031382\n",
      "Epoch: 16, Batch: 2000, Avg. Loss: 0.3457431663777679\n",
      "Epoch: 16, Batch: 3000, Avg. Loss: 0.34778174352040514\n",
      "Epoch: 16, Batch: 4000, Avg. Loss: 0.3264631310054101\n",
      "Epoch: 16, Batch: 5000, Avg. Loss: 0.3295778160707559\n",
      "Epoch: 16, Batch: 6000, Avg. Loss: 0.34405618339031935\n",
      "Epoch: 17, Batch: 1000, Avg. Loss: 0.3353983151172288\n",
      "Epoch: 17, Batch: 2000, Avg. Loss: 0.33279193993797523\n",
      "Epoch: 17, Batch: 3000, Avg. Loss: 0.32665168813616036\n",
      "Epoch: 17, Batch: 4000, Avg. Loss: 0.3383745496647898\n",
      "Epoch: 17, Batch: 5000, Avg. Loss: 0.3271979555110447\n",
      "Epoch: 17, Batch: 6000, Avg. Loss: 0.32621799906343224\n",
      "Epoch: 18, Batch: 1000, Avg. Loss: 0.32930302930250765\n",
      "Epoch: 18, Batch: 2000, Avg. Loss: 0.3401892103678547\n",
      "Epoch: 18, Batch: 3000, Avg. Loss: 0.3235990630118176\n",
      "Epoch: 18, Batch: 4000, Avg. Loss: 0.3267244893885218\n",
      "Epoch: 18, Batch: 5000, Avg. Loss: 0.31755322574055755\n",
      "Epoch: 18, Batch: 6000, Avg. Loss: 0.32587631392967886\n",
      "Epoch: 19, Batch: 1000, Avg. Loss: 0.3210974149210378\n",
      "Epoch: 19, Batch: 2000, Avg. Loss: 0.32072774158022366\n",
      "Epoch: 19, Batch: 3000, Avg. Loss: 0.327228479788173\n",
      "Epoch: 19, Batch: 4000, Avg. Loss: 0.31638214851962404\n",
      "Epoch: 19, Batch: 5000, Avg. Loss: 0.3308869596954901\n",
      "Epoch: 19, Batch: 6000, Avg. Loss: 0.3129587468700483\n",
      "Epoch: 20, Batch: 1000, Avg. Loss: 0.30603114622202704\n",
      "Epoch: 20, Batch: 2000, Avg. Loss: 0.3099470605426468\n",
      "Epoch: 20, Batch: 3000, Avg. Loss: 0.31847140193660745\n",
      "Epoch: 20, Batch: 4000, Avg. Loss: 0.31846126045379786\n",
      "Epoch: 20, Batch: 5000, Avg. Loss: 0.3134769040060928\n",
      "Epoch: 20, Batch: 6000, Avg. Loss: 0.32926038606883956\n",
      "Epoch: 21, Batch: 1000, Avg. Loss: 0.3166630296786316\n",
      "Epoch: 21, Batch: 2000, Avg. Loss: 0.3027148230515886\n",
      "Epoch: 21, Batch: 3000, Avg. Loss: 0.3127381249500904\n",
      "Epoch: 21, Batch: 4000, Avg. Loss: 0.3024016405832954\n",
      "Epoch: 21, Batch: 5000, Avg. Loss: 0.3208092697409447\n",
      "Epoch: 21, Batch: 6000, Avg. Loss: 0.32017610292159954\n",
      "Epoch: 22, Batch: 1000, Avg. Loss: 0.30784602006152273\n",
      "Epoch: 22, Batch: 2000, Avg. Loss: 0.29838518165424466\n",
      "Epoch: 22, Batch: 3000, Avg. Loss: 0.30657347820606085\n",
      "Epoch: 22, Batch: 4000, Avg. Loss: 0.31584464994166045\n",
      "Epoch: 22, Batch: 5000, Avg. Loss: 0.30865788098354824\n",
      "Epoch: 22, Batch: 6000, Avg. Loss: 0.3093594468451338\n",
      "Epoch: 23, Batch: 1000, Avg. Loss: 0.3028676064372994\n",
      "Epoch: 23, Batch: 2000, Avg. Loss: 0.3063049436805304\n",
      "Epoch: 23, Batch: 3000, Avg. Loss: 0.3038665106021217\n",
      "Epoch: 23, Batch: 4000, Avg. Loss: 0.3033840573799098\n",
      "Epoch: 23, Batch: 5000, Avg. Loss: 0.3099707845821977\n",
      "Epoch: 23, Batch: 6000, Avg. Loss: 0.298242419571965\n",
      "Epoch: 24, Batch: 1000, Avg. Loss: 0.2848455867102602\n",
      "Epoch: 24, Batch: 2000, Avg. Loss: 0.3021351729207672\n",
      "Epoch: 24, Batch: 3000, Avg. Loss: 0.30760660861292854\n",
      "Epoch: 24, Batch: 4000, Avg. Loss: 0.2977534038766753\n",
      "Epoch: 24, Batch: 5000, Avg. Loss: 0.3106206665628124\n",
      "Epoch: 24, Batch: 6000, Avg. Loss: 0.2927962970728986\n",
      "Epoch: 25, Batch: 1000, Avg. Loss: 0.29185747329809236\n",
      "Epoch: 25, Batch: 2000, Avg. Loss: 0.28897496635926656\n",
      "Epoch: 25, Batch: 3000, Avg. Loss: 0.30040696384897453\n",
      "Epoch: 25, Batch: 4000, Avg. Loss: 0.29146675545698963\n",
      "Epoch: 25, Batch: 5000, Avg. Loss: 0.29651489384658636\n",
      "Epoch: 25, Batch: 6000, Avg. Loss: 0.29742029635969086\n",
      "Epoch: 26, Batch: 1000, Avg. Loss: 0.2853940078676969\n",
      "Epoch: 26, Batch: 2000, Avg. Loss: 0.2933318529133685\n"
     ]
    },
    {
     "name": "stdout",
     "output_type": "stream",
     "text": [
      "Epoch: 26, Batch: 3000, Avg. Loss: 0.2889038391909562\n",
      "Epoch: 26, Batch: 4000, Avg. Loss: 0.29250264435238205\n",
      "Epoch: 26, Batch: 5000, Avg. Loss: 0.30096046448429115\n",
      "Epoch: 26, Batch: 6000, Avg. Loss: 0.2871063072674806\n",
      "Epoch: 27, Batch: 1000, Avg. Loss: 0.29259189508971756\n",
      "Epoch: 27, Batch: 2000, Avg. Loss: 0.29375537403603086\n",
      "Epoch: 27, Batch: 3000, Avg. Loss: 0.28496097966693923\n",
      "Epoch: 27, Batch: 4000, Avg. Loss: 0.2831805771616055\n",
      "Epoch: 27, Batch: 5000, Avg. Loss: 0.2926853578579612\n",
      "Epoch: 27, Batch: 6000, Avg. Loss: 0.2979310602869373\n",
      "Epoch: 28, Batch: 1000, Avg. Loss: 0.29028636193301643\n",
      "Epoch: 28, Batch: 2000, Avg. Loss: 0.2761584556829184\n",
      "Epoch: 28, Batch: 3000, Avg. Loss: 0.27389027614187217\n",
      "Epoch: 28, Batch: 4000, Avg. Loss: 0.2817882430673344\n",
      "Epoch: 28, Batch: 5000, Avg. Loss: 0.293270431174431\n",
      "Epoch: 28, Batch: 6000, Avg. Loss: 0.2860946494252421\n",
      "Epoch: 29, Batch: 1000, Avg. Loss: 0.2904890678584925\n",
      "Epoch: 29, Batch: 2000, Avg. Loss: 0.2828560056204442\n",
      "Epoch: 29, Batch: 3000, Avg. Loss: 0.27496874176478014\n",
      "Epoch: 29, Batch: 4000, Avg. Loss: 0.28448522886959837\n",
      "Epoch: 29, Batch: 5000, Avg. Loss: 0.2778309743830468\n",
      "Epoch: 29, Batch: 6000, Avg. Loss: 0.2911551586133428\n",
      "Epoch: 30, Batch: 1000, Avg. Loss: 0.26726696172426456\n",
      "Epoch: 30, Batch: 2000, Avg. Loss: 0.28235024321591484\n",
      "Epoch: 30, Batch: 3000, Avg. Loss: 0.2766632754236925\n",
      "Epoch: 30, Batch: 4000, Avg. Loss: 0.28948166401544584\n",
      "Epoch: 30, Batch: 5000, Avg. Loss: 0.2769344625689555\n",
      "Epoch: 30, Batch: 6000, Avg. Loss: 0.2871415827892488\n",
      "Finished Training\n"
     ]
    }
   ],
   "source": [
    "# define the number of epochs to train for\n",
    "n_epochs = 30 # start small to see if your model works, initially\n",
    "\n",
    "# call train\n",
    "training_loss = train(n_epochs)"
   ]
  },
  {
   "cell_type": "markdown",
   "metadata": {},
   "source": [
    "## Visualizing the loss\n",
    "\n",
    "A good indication of how much your network is learning as it trains is the loss over time. In this example, we printed and recorded the average loss for each 1000 batches and for each epoch. Let's plot it and see how the loss decreases (or doesn't) over time. \n",
    "\n",
    "In this case, you should see that the loss has an initially large decrease and even looks like it would decrease more (by some small, linear amount) if we let it train for more epochs."
   ]
  },
  {
   "cell_type": "code",
   "execution_count": 12,
   "metadata": {},
   "outputs": [
    {
     "data": {
      "image/png": "[encoded data removed]",
      "text/plain": [
       "<Figure size 432x288 with 1 Axes>"
      ]
     },
     "metadata": {
      "needs_background": "light"
     },
     "output_type": "display_data"
    }
   ],
   "source": [
    "# visualize the loss as the network trained\n",
    "plt.plot(training_loss)\n",
    "plt.xlabel('1000\\'s of batches')\n",
    "plt.ylabel('loss')\n",
    "plt.ylim(0, 2.5) # consistent scale\n",
    "plt.show()"
   ]
  },
  {
   "cell_type": "markdown",
   "metadata": {},
   "source": [
    "### Test the Trained Network\n",
    "\n",
    "Once you are satisfied with how the loss of your model has decreased, there is one last step: test!\n",
    "\n",
    "You must test your trained model on a previously unseen dataset to see if it generalizes well and can accurately classify this new dataset. For FashionMNIST, which contains many pre-processed training images, a good model should reach **greater than 85% accuracy** on this test dataset. If you are not reaching this value, try training for a larger number of epochs, tweaking your hyperparameters, or adding/subtracting layers from your CNN."
   ]
  },
  {
   "cell_type": "code",
   "execution_count": 13,
   "metadata": {},
   "outputs": [
    {
     "name": "stdout",
     "output_type": "stream",
     "text": [
      "Test Loss: 0.298402\n",
      "\n",
      "Test Accuracy of T-shirt/top: 87% (874/1000)\n",
      "Test Accuracy of Trouser: 97% (976/1000)\n",
      "Test Accuracy of Pullover: 88% (889/1000)\n",
      "Test Accuracy of Dress: 90% (907/1000)\n",
      "Test Accuracy of  Coat: 74% (741/1000)\n",
      "Test Accuracy of Sandal: 97% (972/1000)\n",
      "Test Accuracy of Shirt: 67% (675/1000)\n",
      "Test Accuracy of Sneaker: 95% (952/1000)\n",
      "Test Accuracy of   Bag: 97% (972/1000)\n",
      "Test Accuracy of Ankle boot: 96% (965/1000)\n",
      "\n",
      "Test Accuracy (Overall): 89% (8923/10000)\n"
     ]
    }
   ],
   "source": [
    "# initialize tensor and lists to monitor test loss and accuracy\n",
    "test_loss = torch.zeros(1)\n",
    "class_correct = list(0. for i in range(10))\n",
    "class_total = list(0. for i in range(10))\n",
    "\n",
    "# set the module to evaluation mode\n",
    "net.eval()\n",
    "\n",
    "for batch_i, data in enumerate(test_loader):\n",
    "    \n",
    "    # get the input images and their corresponding labels\n",
    "    inputs, labels = data\n",
    "    \n",
    "    # forward pass to get outputs\n",
    "    outputs = net(inputs)\n",
    "\n",
    "    # calculate the loss\n",
    "    loss = criterion(outputs, labels)\n",
    "            \n",
    "    # update average test loss \n",
    "    test_loss = test_loss + ((torch.ones(1) / (batch_i + 1)) * (loss.data - test_loss))\n",
    "    \n",
    "    # get the predicted class from the maximum value in the output-list of class scores\n",
    "    _, predicted = torch.max(outputs.data, 1)\n",
    "    \n",
    "    # compare predictions to true label\n",
    "    # this creates a `correct` Tensor that holds the number of correctly classified images in a batch\n",
    "    correct = np.squeeze(predicted.eq(labels.data.view_as(predicted)))\n",
    "    \n",
    "    # calculate test accuracy for *each* object class\n",
    "    # we get the scalar value of correct items for a class, by calling `correct[i].item()`\n",
    "    for i in range(batch_size):\n",
    "        label = labels.data[i]\n",
    "        class_correct[label] += correct[i].item()\n",
    "        class_total[label] += 1\n",
    "\n",
    "print('Test Loss: {:.6f}\\n'.format(test_loss.numpy()[0]))\n",
    "\n",
    "for i in range(10):\n",
    "    if class_total[i] > 0:\n",
    "        print('Test Accuracy of %5s: %2d%% (%2d/%2d)' % (\n",
    "            classes[i], 100 * class_correct[i] / class_total[i],\n",
    "            np.sum(class_correct[i]), np.sum(class_total[i])))\n",
    "    else:\n",
    "        print('Test Accuracy of %5s: N/A (no training examples)' % (classes[i]))\n",
    "\n",
    "        \n",
    "print('\\nTest Accuracy (Overall): %2d%% (%2d/%2d)' % (\n",
    "    100. * np.sum(class_correct) / np.sum(class_total),\n",
    "    np.sum(class_correct), np.sum(class_total)))"
   ]
  },
  {
   "cell_type": "markdown",
   "metadata": {},
   "source": [
    "### Visualize sample test results\n",
    "\n",
    "Format: predicted class (true class)"
   ]
  },
  {
   "cell_type": "code",
   "execution_count": 14,
   "metadata": {},
   "outputs": [
    {
     "data": {
      "image/png": "[encoded data removed]",
      "text/plain": [
       "<Figure size 1800x288 with 10 Axes>"
      ]
     },
     "metadata": {},
     "output_type": "display_data"
    }
   ],
   "source": [
    "# obtain one batch of test images\n",
    "dataiter = iter(test_loader)\n",
    "images, labels = dataiter.next()\n",
    "# get predictions\n",
    "preds = np.squeeze(net(images).data.max(1, keepdim=True)[1].numpy())\n",
    "images = images.numpy()\n",
    "\n",
    "# plot the images in the batch, along with predicted and true labels\n",
    "fig = plt.figure(figsize=(25, 4))\n",
    "for idx in np.arange(batch_size):\n",
    "    ax = fig.add_subplot(2, batch_size/2, idx+1, xticks=[], yticks=[])\n",
    "    ax.imshow(np.squeeze(images[idx]), cmap='gray')\n",
    "    ax.set_title(\"{} ({})\".format(classes[preds[idx]], classes[labels[idx]]),\n",
    "                 color=(\"green\" if preds[idx]==labels[idx] else \"red\"))"
   ]
  },
  {
   "cell_type": "markdown",
   "metadata": {},
   "source": [
    "### Question: What are some weaknesses of your model? (And how might you improve these in future iterations.)"
   ]
  },
  {
   "cell_type": "markdown",
   "metadata": {},
   "source": [
    "**Answer**: Since t-shirts, shirts, and coats have a similar overall shape, my model has trouble distinguishing between those items. In fact, its lowest test class accuracy is: `Test Accuracy of Shirt`, which this model only gets right about 60% of the time . \n",
    "\n",
    "I suspect that this accuracy could be improved by doing some data augmentation with respect to these classes or even adding another convolutional layer to extract even higher level features."
   ]
  },
  {
   "cell_type": "code",
   "execution_count": 15,
   "metadata": {},
   "outputs": [],
   "source": [
    "# Saving the model\n",
    "model_dir = 'saved_models/'\n",
    "model_name = 'fashion_net_ex.pt'\n",
    "\n",
    "# after training, save your model parameters in the dir 'saved_models'\n",
    "# when you're ready, un-comment the line below\n",
    "torch.save(net.state_dict(), model_dir+model_name)"
   ]
  },
  {
   "cell_type": "code",
   "execution_count": null,
   "metadata": {
    "collapsed": true
   },
   "outputs": [],
   "source": []
  }
 ],
 "metadata": {
  "anaconda-cloud": {},
  "kernelspec": {
   "display_name": "Python [conda env:Anaconda_3]",
   "language": "python",
   "name": "conda-env-Anaconda_3-py"
  },
  "language_info": {
   "codemirror_mode": {
    "name": "ipython",
    "version": 3
   },
   "file_extension": ".py",
   "mimetype": "text/x-python",
   "name": "python",
   "nbconvert_exporter": "python",
   "pygments_lexer": "ipython3",
   "version": "3.5.6"
  },
  "widgets": {
   "state": {},
   "version": "1.1.2"
  }
 },
 "nbformat": 4,
 "nbformat_minor": 2
}
